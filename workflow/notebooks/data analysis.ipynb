{
 "cells": [
  {
   "cell_type": "markdown",
   "source": [
    "Raw data files analysis"
   ],
   "metadata": {
    "collapsed": false
   }
  },
  {
   "cell_type": "code",
   "execution_count": 82,
   "outputs": [],
   "source": [
    "import pandas as pd\n",
    "import os"
   ],
   "metadata": {
    "collapsed": false
   }
  },
  {
   "cell_type": "code",
   "execution_count": 83,
   "outputs": [
    {
     "data": {
      "text/plain": "                                   File Names    Lines  Nodes  Edges\n0                                     go.json      NaN  51074  88231\n1                                      .empty      NaN    NaN    NaN\n2                              uniprot.tsv.gz  6284056    NaN    NaN\n3                                    hpo.json      NaN  17091  20951\n4                            goa_human.gaf.gz   635913    NaN    NaN\n5   all_gene_disease_pmid_associations.tsv.gz  3241576    NaN    NaN\n6                       ensembl_to_entrez.tsv    29315    NaN    NaN\n7                     disease_mappings.tsv.gz   242889    NaN    NaN\n8                                  mondo.json      NaN  44985  84876\n9                                   hpoa.hpoa   249189    NaN    NaN\n10                   goa_human_complex.gaf.gz     2225    NaN    NaN\n11                             rnacentral.tsv  1466453    NaN    NaN\n12                                ensembl.tsv   120732    NaN    NaN\n13                       goa_human_rna.gaf.gz    56486    NaN    NaN\n14                                    ro.json      NaN    797    855",
      "text/html": "<div>\n<style scoped>\n    .dataframe tbody tr th:only-of-type {\n        vertical-align: middle;\n    }\n\n    .dataframe tbody tr th {\n        vertical-align: top;\n    }\n\n    .dataframe thead th {\n        text-align: right;\n    }\n</style>\n<table border=\"1\" class=\"dataframe\">\n  <thead>\n    <tr style=\"text-align: right;\">\n      <th></th>\n      <th>File Names</th>\n      <th>Lines</th>\n      <th>Nodes</th>\n      <th>Edges</th>\n    </tr>\n  </thead>\n  <tbody>\n    <tr>\n      <th>0</th>\n      <td>go.json</td>\n      <td>NaN</td>\n      <td>51074</td>\n      <td>88231</td>\n    </tr>\n    <tr>\n      <th>1</th>\n      <td>.empty</td>\n      <td>NaN</td>\n      <td>NaN</td>\n      <td>NaN</td>\n    </tr>\n    <tr>\n      <th>2</th>\n      <td>uniprot.tsv.gz</td>\n      <td>6284056</td>\n      <td>NaN</td>\n      <td>NaN</td>\n    </tr>\n    <tr>\n      <th>3</th>\n      <td>hpo.json</td>\n      <td>NaN</td>\n      <td>17091</td>\n      <td>20951</td>\n    </tr>\n    <tr>\n      <th>4</th>\n      <td>goa_human.gaf.gz</td>\n      <td>635913</td>\n      <td>NaN</td>\n      <td>NaN</td>\n    </tr>\n    <tr>\n      <th>5</th>\n      <td>all_gene_disease_pmid_associations.tsv.gz</td>\n      <td>3241576</td>\n      <td>NaN</td>\n      <td>NaN</td>\n    </tr>\n    <tr>\n      <th>6</th>\n      <td>ensembl_to_entrez.tsv</td>\n      <td>29315</td>\n      <td>NaN</td>\n      <td>NaN</td>\n    </tr>\n    <tr>\n      <th>7</th>\n      <td>disease_mappings.tsv.gz</td>\n      <td>242889</td>\n      <td>NaN</td>\n      <td>NaN</td>\n    </tr>\n    <tr>\n      <th>8</th>\n      <td>mondo.json</td>\n      <td>NaN</td>\n      <td>44985</td>\n      <td>84876</td>\n    </tr>\n    <tr>\n      <th>9</th>\n      <td>hpoa.hpoa</td>\n      <td>249189</td>\n      <td>NaN</td>\n      <td>NaN</td>\n    </tr>\n    <tr>\n      <th>10</th>\n      <td>goa_human_complex.gaf.gz</td>\n      <td>2225</td>\n      <td>NaN</td>\n      <td>NaN</td>\n    </tr>\n    <tr>\n      <th>11</th>\n      <td>rnacentral.tsv</td>\n      <td>1466453</td>\n      <td>NaN</td>\n      <td>NaN</td>\n    </tr>\n    <tr>\n      <th>12</th>\n      <td>ensembl.tsv</td>\n      <td>120732</td>\n      <td>NaN</td>\n      <td>NaN</td>\n    </tr>\n    <tr>\n      <th>13</th>\n      <td>goa_human_rna.gaf.gz</td>\n      <td>56486</td>\n      <td>NaN</td>\n      <td>NaN</td>\n    </tr>\n    <tr>\n      <th>14</th>\n      <td>ro.json</td>\n      <td>NaN</td>\n      <td>797</td>\n      <td>855</td>\n    </tr>\n  </tbody>\n</table>\n</div>"
     },
     "metadata": {},
     "output_type": "display_data"
    }
   ],
   "source": [
    "datapath = \"../../data/raw/\"\n",
    "\n",
    "columns = [\"File Names\", \"Lines\", \"Nodes\", \"Edges\"]\n",
    "\n",
    "df = pd.DataFrame(columns=columns)\n",
    "\n",
    "df[\"File Names\"] = os.listdir(datapath)\n",
    "\n",
    "for filename in df[\"File Names\"]:\n",
    "    filepath = os.path.join(datapath, filename)\n",
    "    if os.stat(filepath).st_size != 0:\n",
    "        if \"json\" in filename:\n",
    "            file = pd.read_json(filepath)\n",
    "            df.loc[df[\"File Names\"] == filename, \"Nodes\"] = len(file[\"graphs\"][0][\"nodes\"])\n",
    "            df.loc[df[\"File Names\"] == filename, \"Edges\"] = len(file[\"graphs\"][0][\"edges\"])\n",
    "        else:\n",
    "            try:\n",
    "                file = pd.read_csv(filepath, comment=\"!\", sep= '\\t', low_memory=False)\n",
    "            except:\n",
    "                file = pd.read_csv(filepath, comment=\"#\", sep= '\\t', low_memory=False)\n",
    "            lines = len(file.index)\n",
    "            df.loc[df[\"File Names\"] == filename, \"Lines\"] = lines\n",
    "\n",
    "display(df)\n"
   ],
   "metadata": {
    "collapsed": false
   }
  },
  {
   "cell_type": "markdown",
   "source": [
    "Processed files analysis"
   ],
   "metadata": {
    "collapsed": false
   }
  },
  {
   "cell_type": "code",
   "execution_count": 84,
   "outputs": [
    {
     "data": {
      "text/plain": "                 File Names    Lines\n0         ensembl_edges.tsv    52813\n1                    .empty      NaN\n2        disgenet_edges.tsv  2575241\n3            hpoa_edges.tsv   249190\n4              go_nodes.tsv    51074\n5              go_edges.tsv    88231\n6             goa_edges.tsv   694627\n7         ensembl_nodes.tsv    76299\n8          merged_nodes.tsv   194774\n9   merged_graph_stats.yaml     1889\n10          mondo_nodes.tsv    44990\n11            hpo_edges.tsv    20951\n12            hpo_nodes.tsv    17091\n13           rnacentral.tsv  1466453\n14         merged_edges.tsv  1643056\n15            goa_nodes.tsv   694627\n16          mondo_edges.tsv    84681\n17       disgenet_nodes.tsv  5150482\n18           hpoa_nodes.tsv   249190",
      "text/html": "<div>\n<style scoped>\n    .dataframe tbody tr th:only-of-type {\n        vertical-align: middle;\n    }\n\n    .dataframe tbody tr th {\n        vertical-align: top;\n    }\n\n    .dataframe thead th {\n        text-align: right;\n    }\n</style>\n<table border=\"1\" class=\"dataframe\">\n  <thead>\n    <tr style=\"text-align: right;\">\n      <th></th>\n      <th>File Names</th>\n      <th>Lines</th>\n    </tr>\n  </thead>\n  <tbody>\n    <tr>\n      <th>0</th>\n      <td>ensembl_edges.tsv</td>\n      <td>52813</td>\n    </tr>\n    <tr>\n      <th>1</th>\n      <td>.empty</td>\n      <td>NaN</td>\n    </tr>\n    <tr>\n      <th>2</th>\n      <td>disgenet_edges.tsv</td>\n      <td>2575241</td>\n    </tr>\n    <tr>\n      <th>3</th>\n      <td>hpoa_edges.tsv</td>\n      <td>249190</td>\n    </tr>\n    <tr>\n      <th>4</th>\n      <td>go_nodes.tsv</td>\n      <td>51074</td>\n    </tr>\n    <tr>\n      <th>5</th>\n      <td>go_edges.tsv</td>\n      <td>88231</td>\n    </tr>\n    <tr>\n      <th>6</th>\n      <td>goa_edges.tsv</td>\n      <td>694627</td>\n    </tr>\n    <tr>\n      <th>7</th>\n      <td>ensembl_nodes.tsv</td>\n      <td>76299</td>\n    </tr>\n    <tr>\n      <th>8</th>\n      <td>merged_nodes.tsv</td>\n      <td>194774</td>\n    </tr>\n    <tr>\n      <th>9</th>\n      <td>merged_graph_stats.yaml</td>\n      <td>1889</td>\n    </tr>\n    <tr>\n      <th>10</th>\n      <td>mondo_nodes.tsv</td>\n      <td>44990</td>\n    </tr>\n    <tr>\n      <th>11</th>\n      <td>hpo_edges.tsv</td>\n      <td>20951</td>\n    </tr>\n    <tr>\n      <th>12</th>\n      <td>hpo_nodes.tsv</td>\n      <td>17091</td>\n    </tr>\n    <tr>\n      <th>13</th>\n      <td>rnacentral.tsv</td>\n      <td>1466453</td>\n    </tr>\n    <tr>\n      <th>14</th>\n      <td>merged_edges.tsv</td>\n      <td>1643056</td>\n    </tr>\n    <tr>\n      <th>15</th>\n      <td>goa_nodes.tsv</td>\n      <td>694627</td>\n    </tr>\n    <tr>\n      <th>16</th>\n      <td>mondo_edges.tsv</td>\n      <td>84681</td>\n    </tr>\n    <tr>\n      <th>17</th>\n      <td>disgenet_nodes.tsv</td>\n      <td>5150482</td>\n    </tr>\n    <tr>\n      <th>18</th>\n      <td>hpoa_nodes.tsv</td>\n      <td>249190</td>\n    </tr>\n  </tbody>\n</table>\n</div>"
     },
     "metadata": {},
     "output_type": "display_data"
    },
    {
     "data": {
      "text/plain": "            File Names  Genes Proteins Protein Complex    RNA Diseases  \\\n4         go_nodes.tsv      0        0               0      0        0   \n7    ensembl_nodes.tsv  23486    19253               0   4016        0   \n8     merged_nodes.tsv  25705    20311             506  27580    38253   \n10     mondo_nodes.tsv      0        0               0      0    25574   \n12       hpo_nodes.tsv      0        0               0      0        0   \n15       goa_nodes.tsv      0    19861             506  23564        0   \n17  disgenet_nodes.tsv  18309        0               0      0     9355   \n18      hpoa_nodes.tsv      0        0               0      0    12679   \n\n   Phenotypes Ontologies  \n4           0      51057  \n7          12      19253  \n8       17073      76746  \n10       1205       9296  \n12      17060         12  \n15         12      19861  \n17       8159          0  \n18          0          0  ",
      "text/html": "<div>\n<style scoped>\n    .dataframe tbody tr th:only-of-type {\n        vertical-align: middle;\n    }\n\n    .dataframe tbody tr th {\n        vertical-align: top;\n    }\n\n    .dataframe thead th {\n        text-align: right;\n    }\n</style>\n<table border=\"1\" class=\"dataframe\">\n  <thead>\n    <tr style=\"text-align: right;\">\n      <th></th>\n      <th>File Names</th>\n      <th>Genes</th>\n      <th>Proteins</th>\n      <th>Protein Complex</th>\n      <th>RNA</th>\n      <th>Diseases</th>\n      <th>Phenotypes</th>\n      <th>Ontologies</th>\n    </tr>\n  </thead>\n  <tbody>\n    <tr>\n      <th>4</th>\n      <td>go_nodes.tsv</td>\n      <td>0</td>\n      <td>0</td>\n      <td>0</td>\n      <td>0</td>\n      <td>0</td>\n      <td>0</td>\n      <td>51057</td>\n    </tr>\n    <tr>\n      <th>7</th>\n      <td>ensembl_nodes.tsv</td>\n      <td>23486</td>\n      <td>19253</td>\n      <td>0</td>\n      <td>4016</td>\n      <td>0</td>\n      <td>12</td>\n      <td>19253</td>\n    </tr>\n    <tr>\n      <th>8</th>\n      <td>merged_nodes.tsv</td>\n      <td>25705</td>\n      <td>20311</td>\n      <td>506</td>\n      <td>27580</td>\n      <td>38253</td>\n      <td>17073</td>\n      <td>76746</td>\n    </tr>\n    <tr>\n      <th>10</th>\n      <td>mondo_nodes.tsv</td>\n      <td>0</td>\n      <td>0</td>\n      <td>0</td>\n      <td>0</td>\n      <td>25574</td>\n      <td>1205</td>\n      <td>9296</td>\n    </tr>\n    <tr>\n      <th>12</th>\n      <td>hpo_nodes.tsv</td>\n      <td>0</td>\n      <td>0</td>\n      <td>0</td>\n      <td>0</td>\n      <td>0</td>\n      <td>17060</td>\n      <td>12</td>\n    </tr>\n    <tr>\n      <th>15</th>\n      <td>goa_nodes.tsv</td>\n      <td>0</td>\n      <td>19861</td>\n      <td>506</td>\n      <td>23564</td>\n      <td>0</td>\n      <td>12</td>\n      <td>19861</td>\n    </tr>\n    <tr>\n      <th>17</th>\n      <td>disgenet_nodes.tsv</td>\n      <td>18309</td>\n      <td>0</td>\n      <td>0</td>\n      <td>0</td>\n      <td>9355</td>\n      <td>8159</td>\n      <td>0</td>\n    </tr>\n    <tr>\n      <th>18</th>\n      <td>hpoa_nodes.tsv</td>\n      <td>0</td>\n      <td>0</td>\n      <td>0</td>\n      <td>0</td>\n      <td>12679</td>\n      <td>0</td>\n      <td>0</td>\n    </tr>\n  </tbody>\n</table>\n</div>"
     },
     "metadata": {},
     "output_type": "display_data"
    }
   ],
   "source": [
    "datapath = \"../../data/processed/\"\n",
    "\n",
    "nodes_columns = [\"File Names\", \"Genes\", \"Proteins\", \"Protein Complex\", \"RNA\", \"Diseases\", \"Phenotypes\", \"Ontologies\"]\n",
    "\n",
    "df = pd.DataFrame(columns=[\"File Names\", \"Lines\"])\n",
    "nodes = pd.DataFrame(columns=nodes_columns)\n",
    "\n",
    "df[\"File Names\"] = os.listdir(datapath)\n",
    "nodes[\"File Names\"] = df[df[\"File Names\"].str.contains(\"nodes\")][\"File Names\"]\n",
    "\n",
    "for filename in df[\"File Names\"]:\n",
    "    filepath = os.path.join(datapath, filename)\n",
    "    if os.stat(filepath).st_size != 0:\n",
    "        filef = pd.read_csv(filepath, comment=\"#\", sep= '\\t', low_memory=False)\n",
    "        df.loc[df[\"File Names\"] == filename, \"Lines\"] = len(filef.index)\n",
    "        if \"nodes\" in filename:\n",
    "            nodes.loc[nodes[\"File Names\"] == filename, \"Genes\"] = len(filef[filef[\"id\"].str.contains(\"ENSEMBL\")][\"id\"].unique())\n",
    "            nodes.loc[nodes[\"File Names\"] == filename, \"Proteins\"] = len(filef[filef[\"id\"].str.contains(\"UNIPROTKB\")][\"id\"].unique())\n",
    "            nodes.loc[nodes[\"File Names\"] == filename, \"RNA\"] = len(filef[filef[\"id\"].str.contains(\"RNACENTRAL\")][\"id\"].unique())\n",
    "            nodes.loc[nodes[\"File Names\"] == filename, \"Protein Complex\"] = len(filef[filef[\"id\"].str.contains(\"COMPLEXPORTAL\")][\"id\"].unique())\n",
    "            nodes.loc[nodes[\"File Names\"] == filename, \"Diseases\"] = len(filef[filef[\"id\"].str.contains(\"MONDO\") | filef[\"id\"].str.contains(\"ORPHA\") | filef[\"id\"].str.contains(\"DECIPHER\") | filef[\"id\"].str.contains(\"OMIM\")][\"id\"].unique())\n",
    "            nodes.loc[nodes[\"File Names\"] == filename, \"Phenotypes\"] = len(filef[filef[\"id\"].str.contains(\"HP\")][\"id\"].unique())\n",
    "            nodes.loc[nodes[\"File Names\"] == filename, \"Ontologies\"] = len(filef[filef[\"id\"].str.contains(\"GO\")| filef[\"id\"].str.contains(\"OBO\") | filef[\"id\"].str.contains(\"RO\")| filef[\"id\"].str.contains(\"BFO\") ][\"id\"].unique())\n",
    "\n",
    "display(df, nodes)"
   ],
   "metadata": {
    "collapsed": false
   }
  },
  {
   "cell_type": "markdown",
   "source": [],
   "metadata": {
    "collapsed": false
   }
  }
 ],
 "metadata": {
  "kernelspec": {
   "display_name": "Python 3",
   "language": "python",
   "name": "python3"
  },
  "language_info": {
   "codemirror_mode": {
    "name": "ipython",
    "version": 2
   },
   "file_extension": ".py",
   "mimetype": "text/x-python",
   "name": "python",
   "nbconvert_exporter": "python",
   "pygments_lexer": "ipython2",
   "version": "2.7.6"
  }
 },
 "nbformat": 4,
 "nbformat_minor": 0
}

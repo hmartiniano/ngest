{
 "cells": [
  {
   "cell_type": "code",
   "execution_count": 1,
   "metadata": {
    "collapsed": true
   },
   "outputs": [],
   "source": [
    "import pandas as pd"
   ]
  },
  {
   "cell_type": "markdown",
   "source": [
    "Analyse node categories and prefixes from lcc merge file"
   ],
   "metadata": {
    "collapsed": false
   }
  },
  {
   "cell_type": "code",
   "execution_count": null,
   "outputs": [],
   "source": [
    "nodes = pd.read_csv(\"../../data/processed/finals/lcc_nodes.tsv\", sep=\"\\t\", low_memory=False)\n",
    "\n",
    "nodes[\"source\"] = nodes[\"source\"].str.split(\"|\")\n",
    "\n",
    "nodes = nodes.explode([\"source\"])\n",
    "nodes[\"prefixes\"] = nodes.id.str.split(\":\").str[0]\n",
    "\n",
    "categories = nodes[[\"source\", \"category\"]].groupby([\"category\",\"source\"]).size().unstack(fill_value=0)\n",
    "\n",
    "prefixes = nodes[[\"source\", \"prefixes\"]].groupby([\"prefixes\",\"source\"]).size().unstack(fill_value=0)\n",
    "\n",
    "display(categories)\n",
    "display(prefixes)"
   ],
   "metadata": {
    "collapsed": false,
    "pycharm": {
     "is_executing": true
    }
   }
  },
  {
   "cell_type": "markdown",
   "source": [
    "Analyse edges predicates from lcc merge file"
   ],
   "metadata": {
    "collapsed": false
   }
  },
  {
   "cell_type": "code",
   "execution_count": null,
   "outputs": [],
   "source": [
    "edges = pd.read_csv(\"../../data/processed/finals/lcc_edges.tsv\", sep=\"\\t\", low_memory=False)\n",
    "\n",
    "edges[\"source\"] = edges[\"source\"].str.split(\"|\")\n",
    "\n",
    "edges = edges.explode([\"source\"])\n",
    "\n",
    "predicates = edges[[\"source\", \"predicate\"]].groupby([\"predicate\",\"source\"]).size().unstack(fill_value=0)\n",
    "\n",
    "predicates.to_csv(\"lcc_predicates.tsv\", sep=\"\\t\")\n",
    "display(predicates)"
   ],
   "metadata": {
    "collapsed": false,
    "pycharm": {
     "is_executing": true
    }
   }
  },
  {
   "cell_type": "markdown",
   "source": [
    "Create pivot table for Sankey Graph from lcc file"
   ],
   "metadata": {
    "collapsed": false
   }
  },
  {
   "cell_type": "code",
   "execution_count": null,
   "outputs": [],
   "source": [
    "edges = pd.read_csv(\"../../data/processed/finals/lcc_edges.tsv\", sep=\"\\t\", low_memory=False)[[\"subject\", \"object\"]]\n",
    "edges[\"subject\"] = edges[\"subject\"].str.split(\":\").str[0]\n",
    "edges[\"object\"] = edges[\"object\"].str.split(\":\").str[0]\n",
    "final = edges.pivot_table(columns=['subject','object'], aggfunc='size')\n",
    "display(final)"
   ],
   "metadata": {
    "collapsed": false
   }
  }
 ],
 "metadata": {
  "kernelspec": {
   "display_name": "Python 3",
   "language": "python",
   "name": "python3"
  },
  "language_info": {
   "codemirror_mode": {
    "name": "ipython",
    "version": 2
   },
   "file_extension": ".py",
   "mimetype": "text/x-python",
   "name": "python",
   "nbconvert_exporter": "python",
   "pygments_lexer": "ipython2",
   "version": "2.7.6"
  }
 },
 "nbformat": 4,
 "nbformat_minor": 0
}

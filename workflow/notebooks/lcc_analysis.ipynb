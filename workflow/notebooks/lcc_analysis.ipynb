{
 "cells": [
  {
   "cell_type": "code",
   "execution_count": 1,
   "metadata": {
    "collapsed": true
   },
   "outputs": [],
   "source": [
    "import pandas as pd"
   ]
  },
  {
   "cell_type": "markdown",
   "source": [
    "## Total nodes from lcc files"
   ],
   "metadata": {
    "collapsed": false
   }
  },
  {
   "cell_type": "code",
   "execution_count": null,
   "outputs": [],
   "source": [
    "nodes = pd.read_csv(\"../../data/processed/finals/lcc_nodes.tsv\", sep=\"\\t\", low_memory=False)\n",
    "\n",
    "category = pd.value_counts(nodes[\"category\"])\n",
    "\n",
    "prefixes= pd.value_counts(nodes[\"id\"].str.split(\":\").str[0])\n",
    "\n",
    "print(\"Nodes by category: \\n\")\n",
    "display(category)\n",
    "print(\"Nodes by prefix: \\n\")\n",
    "display(prefixes)"
   ],
   "metadata": {
    "collapsed": false,
    "pycharm": {
     "is_executing": true
    }
   }
  },
  {
   "cell_type": "markdown",
   "source": [
    "## Total edges from lcc files"
   ],
   "metadata": {
    "collapsed": false
   }
  },
  {
   "cell_type": "code",
   "execution_count": null,
   "outputs": [],
   "source": [
    "edges = pd.read_csv(\"../../data/processed/finals/lcc_edges.tsv\", sep=\"\\t\", low_memory=False)\n",
    "\n",
    "predicate = pd.value_counts(edges[\"predicate\"])\n",
    "\n",
    "print(\"Edges by predicate: \\n\")\n",
    "display(predicate)"
   ],
   "metadata": {
    "collapsed": false,
    "pycharm": {
     "is_executing": true
    }
   }
  },
  {
   "cell_type": "markdown",
   "source": [
    "## Create pivot table for Sankey Graph from lcc file"
   ],
   "metadata": {
    "collapsed": false
   }
  },
  {
   "cell_type": "code",
   "execution_count": null,
   "outputs": [],
   "source": [
    "smalledges = edges[[\"subject\", \"object\"]]\n",
    "smalledges[\"subject\"] = smalledges[\"subject\"].str.split(\":\").str[0]\n",
    "smalledges[\"object\"] = smalledges[\"object\"].str.split(\":\").str[0]\n",
    "pivot = smalledges.pivot_table(columns=['subject','object'], aggfunc='size')\n",
    "\n",
    "pivot"
   ],
   "metadata": {
    "collapsed": false
   }
  },
  {
   "cell_type": "markdown",
   "source": [
    "## Analyse node categories and prefixes from lcc merge file by source"
   ],
   "metadata": {
    "collapsed": false
   }
  },
  {
   "cell_type": "code",
   "execution_count": null,
   "outputs": [],
   "source": [
    "nodes[\"source\"] = nodes[\"source\"].str.split(\"|\")\n",
    "\n",
    "nodes = nodes.explode([\"source\"])\n",
    "nodes[\"prefixes\"] = nodes.id.str.split(\":\").str[0]\n",
    "\n",
    "categories = nodes[[\"source\", \"category\"]].groupby([\"category\",\"source\"]).size().unstack(fill_value=0)\n",
    "\n",
    "prefixes = nodes[[\"source\", \"prefixes\"]].groupby([\"prefixes\",\"source\"]).size().unstack(fill_value=0)\n",
    "\n",
    "display(categories)\n",
    "display(prefixes)"
   ],
   "metadata": {
    "collapsed": false
   }
  },
  {
   "cell_type": "markdown",
   "source": [
    "## Analyse edges predicates from lcc merge file by source"
   ],
   "metadata": {
    "collapsed": false
   }
  },
  {
   "cell_type": "code",
   "execution_count": null,
   "outputs": [],
   "source": [
    "edges[\"source\"] = edges[\"source\"].str.split(\"|\")\n",
    "\n",
    "edges = edges.explode([\"source\"])\n",
    "\n",
    "predicates = edges[[\"source\", \"predicate\"]].groupby([\"predicate\",\"source\"]).size().unstack(fill_value=0)\n",
    "\n",
    "predicates.to_csv(\"lcc_predicates.tsv\", sep=\"\\t\")\n",
    "display(predicates)"
   ],
   "metadata": {
    "collapsed": false
   }
  },
  {
   "cell_type": "markdown",
   "source": [
    "## Create table with category-predicate-category by source"
   ],
   "metadata": {
    "collapsed": false
   }
  },
  {
   "cell_type": "code",
   "execution_count": null,
   "outputs": [],
   "source": [
    "filterededges = edges[\n",
    "        [\"subject\", \"object\", \"predicate\", \"source\"]]\n",
    "filterednodes = nodes[\n",
    "        [\"id\", \"category\"]].drop_duplicates().set_index(\"id\")\n",
    "\n",
    "filterednodes = filterednodes[~filterednodes.index.duplicated(keep=\"first\")].iloc[:, 0]\n",
    "\n",
    "filterededges[\"subject category\"] = filterededges[\"subject\"].map(filterednodes)\n",
    "filterededges[\"object category\"] = filterededges[\"object\"].map(filterednodes)\n",
    "filterededges[\"edge\"] = filterededges[\"subject category\"] + \"-\" + filterededges[\"predicate\"] + \"-\" + filterededges[\"object category\"]\n",
    "\n",
    "filterededges = filterededges[[\"source\", \"edge\"]]\n",
    "filterededges[\"source\"] = filterededges[\"source\"].str.split(\"|\")\n",
    "filterededges = filterededges.explode([\"source\"])\n",
    "\n",
    "completetable = filterededges.groupby([\"edge\", \"source\"]).size().unstack(fill_value=0)\n",
    "completetable"
   ],
   "metadata": {
    "collapsed": false
   }
  }
 ],
 "metadata": {
  "kernelspec": {
   "display_name": "Python 3",
   "language": "python",
   "name": "python3"
  },
  "language_info": {
   "codemirror_mode": {
    "name": "ipython",
    "version": 2
   },
   "file_extension": ".py",
   "mimetype": "text/x-python",
   "name": "python",
   "nbconvert_exporter": "python",
   "pygments_lexer": "ipython2",
   "version": "2.7.6"
  }
 },
 "nbformat": 4,
 "nbformat_minor": 0
}

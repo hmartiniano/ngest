{
 "cells": [
  {
   "cell_type": "markdown",
   "metadata": {},
   "source": [
    "Process merge_graph_stats analysis"
   ]
  },
  {
   "cell_type": "code",
   "execution_count": 1,
   "metadata": {},
   "outputs": [],
   "source": [
    "import pandas as pd\n",
    "import yaml"
   ]
  },
  {
   "cell_type": "markdown",
   "source": [
    "Edges stats from merge_graph_stats.yaml"
   ],
   "metadata": {
    "collapsed": false
   }
  },
  {
   "cell_type": "code",
   "execution_count": 2,
   "outputs": [
    {
     "name": "stdout",
     "output_type": "stream",
     "text": [
      "Total number of edges:  865776\n"
     ]
    },
    {
     "data": {
      "text/plain": "  knowledge_source\n0          ENSEMBL\n1              GOA\n2             HPOA\n3       RNACENTRAL\n4          cl.json\n5          go.json\n6         hpo.json\n7       mondo.json\n8      uberon.json",
      "text/html": "<div>\n<style scoped>\n    .dataframe tbody tr th:only-of-type {\n        vertical-align: middle;\n    }\n\n    .dataframe tbody tr th {\n        vertical-align: top;\n    }\n\n    .dataframe thead th {\n        text-align: right;\n    }\n</style>\n<table border=\"1\" class=\"dataframe\">\n  <thead>\n    <tr style=\"text-align: right;\">\n      <th></th>\n      <th>knowledge_source</th>\n    </tr>\n  </thead>\n  <tbody>\n    <tr>\n      <th>0</th>\n      <td>ENSEMBL</td>\n    </tr>\n    <tr>\n      <th>1</th>\n      <td>GOA</td>\n    </tr>\n    <tr>\n      <th>2</th>\n      <td>HPOA</td>\n    </tr>\n    <tr>\n      <th>3</th>\n      <td>RNACENTRAL</td>\n    </tr>\n    <tr>\n      <th>4</th>\n      <td>cl.json</td>\n    </tr>\n    <tr>\n      <th>5</th>\n      <td>go.json</td>\n    </tr>\n    <tr>\n      <th>6</th>\n      <td>hpo.json</td>\n    </tr>\n    <tr>\n      <th>7</th>\n      <td>mondo.json</td>\n    </tr>\n    <tr>\n      <th>8</th>\n      <td>uberon.json</td>\n    </tr>\n  </tbody>\n</table>\n</div>"
     },
     "metadata": {},
     "output_type": "display_data"
    },
    {
     "data": {
      "text/plain": "None"
     },
     "metadata": {},
     "output_type": "display_data"
    },
    {
     "data": {
      "text/plain": "                                                   spo  total  cl.json  \\\n0    biolink:AnatomicalEntity-biolink:capable_of-bi...     83     79.0   \n1    biolink:AnatomicalEntity-biolink:capable_of-bi...      2      2.0   \n2    biolink:AnatomicalEntity-biolink:capable_of-bi...     78     74.0   \n3    biolink:AnatomicalEntity-biolink:causes-biolin...     20     19.0   \n4    biolink:AnatomicalEntity-biolink:coexists_with...    903    467.0   \n..                                                 ...    ...      ...   \n391  biolink:Protein-biolink:subclass_of-biolink:Ce...      1      1.0   \n392  biolink:Protein-biolink:subclass_of-biolink:Ch...    173    173.0   \n393  biolink:Protein-biolink:subclass_of-biolink:On...      1      1.0   \n394  biolink:Protein-biolink:subclass_of-biolink:Pr...   1335   1335.0   \n395  biolink:SequenceFeature-biolink:subclass_of-bi...     86      NaN   \n\n     mondo.json  uberon.json  go.json  HPOA  ENSEMBL  RNACENTRAL  hpo.json  \\\n0          59.0          NaN      NaN   NaN      NaN         NaN       NaN   \n1           2.0          NaN      NaN   NaN      NaN         NaN       NaN   \n2          61.0          NaN      NaN   NaN      NaN         NaN       NaN   \n3          19.0         20.0      NaN   NaN      NaN         NaN       NaN   \n4         461.0        903.0      NaN   NaN      NaN         NaN       NaN   \n..          ...          ...      ...   ...      ...         ...       ...   \n391         NaN          NaN      NaN   NaN      NaN         NaN       NaN   \n392         NaN          NaN      NaN   NaN      NaN         NaN       NaN   \n393         NaN          NaN      NaN   NaN      NaN         NaN       NaN   \n394         NaN          NaN      NaN   NaN      NaN         NaN       NaN   \n395        86.0          NaN      NaN   NaN      NaN         NaN       NaN   \n\n     GOA  \n0    NaN  \n1    NaN  \n2    NaN  \n3    NaN  \n4    NaN  \n..   ...  \n391  NaN  \n392  NaN  \n393  NaN  \n394  NaN  \n395  NaN  \n\n[396 rows x 11 columns]",
      "text/html": "<div>\n<style scoped>\n    .dataframe tbody tr th:only-of-type {\n        vertical-align: middle;\n    }\n\n    .dataframe tbody tr th {\n        vertical-align: top;\n    }\n\n    .dataframe thead th {\n        text-align: right;\n    }\n</style>\n<table border=\"1\" class=\"dataframe\">\n  <thead>\n    <tr style=\"text-align: right;\">\n      <th></th>\n      <th>spo</th>\n      <th>total</th>\n      <th>cl.json</th>\n      <th>mondo.json</th>\n      <th>uberon.json</th>\n      <th>go.json</th>\n      <th>HPOA</th>\n      <th>ENSEMBL</th>\n      <th>RNACENTRAL</th>\n      <th>hpo.json</th>\n      <th>GOA</th>\n    </tr>\n  </thead>\n  <tbody>\n    <tr>\n      <th>0</th>\n      <td>biolink:AnatomicalEntity-biolink:capable_of-bi...</td>\n      <td>83</td>\n      <td>79.0</td>\n      <td>59.0</td>\n      <td>NaN</td>\n      <td>NaN</td>\n      <td>NaN</td>\n      <td>NaN</td>\n      <td>NaN</td>\n      <td>NaN</td>\n      <td>NaN</td>\n    </tr>\n    <tr>\n      <th>1</th>\n      <td>biolink:AnatomicalEntity-biolink:capable_of-bi...</td>\n      <td>2</td>\n      <td>2.0</td>\n      <td>2.0</td>\n      <td>NaN</td>\n      <td>NaN</td>\n      <td>NaN</td>\n      <td>NaN</td>\n      <td>NaN</td>\n      <td>NaN</td>\n      <td>NaN</td>\n    </tr>\n    <tr>\n      <th>2</th>\n      <td>biolink:AnatomicalEntity-biolink:capable_of-bi...</td>\n      <td>78</td>\n      <td>74.0</td>\n      <td>61.0</td>\n      <td>NaN</td>\n      <td>NaN</td>\n      <td>NaN</td>\n      <td>NaN</td>\n      <td>NaN</td>\n      <td>NaN</td>\n      <td>NaN</td>\n    </tr>\n    <tr>\n      <th>3</th>\n      <td>biolink:AnatomicalEntity-biolink:causes-biolin...</td>\n      <td>20</td>\n      <td>19.0</td>\n      <td>19.0</td>\n      <td>20.0</td>\n      <td>NaN</td>\n      <td>NaN</td>\n      <td>NaN</td>\n      <td>NaN</td>\n      <td>NaN</td>\n      <td>NaN</td>\n    </tr>\n    <tr>\n      <th>4</th>\n      <td>biolink:AnatomicalEntity-biolink:coexists_with...</td>\n      <td>903</td>\n      <td>467.0</td>\n      <td>461.0</td>\n      <td>903.0</td>\n      <td>NaN</td>\n      <td>NaN</td>\n      <td>NaN</td>\n      <td>NaN</td>\n      <td>NaN</td>\n      <td>NaN</td>\n    </tr>\n    <tr>\n      <th>...</th>\n      <td>...</td>\n      <td>...</td>\n      <td>...</td>\n      <td>...</td>\n      <td>...</td>\n      <td>...</td>\n      <td>...</td>\n      <td>...</td>\n      <td>...</td>\n      <td>...</td>\n      <td>...</td>\n    </tr>\n    <tr>\n      <th>391</th>\n      <td>biolink:Protein-biolink:subclass_of-biolink:Ce...</td>\n      <td>1</td>\n      <td>1.0</td>\n      <td>NaN</td>\n      <td>NaN</td>\n      <td>NaN</td>\n      <td>NaN</td>\n      <td>NaN</td>\n      <td>NaN</td>\n      <td>NaN</td>\n      <td>NaN</td>\n    </tr>\n    <tr>\n      <th>392</th>\n      <td>biolink:Protein-biolink:subclass_of-biolink:Ch...</td>\n      <td>173</td>\n      <td>173.0</td>\n      <td>NaN</td>\n      <td>NaN</td>\n      <td>NaN</td>\n      <td>NaN</td>\n      <td>NaN</td>\n      <td>NaN</td>\n      <td>NaN</td>\n      <td>NaN</td>\n    </tr>\n    <tr>\n      <th>393</th>\n      <td>biolink:Protein-biolink:subclass_of-biolink:On...</td>\n      <td>1</td>\n      <td>1.0</td>\n      <td>NaN</td>\n      <td>NaN</td>\n      <td>NaN</td>\n      <td>NaN</td>\n      <td>NaN</td>\n      <td>NaN</td>\n      <td>NaN</td>\n      <td>NaN</td>\n    </tr>\n    <tr>\n      <th>394</th>\n      <td>biolink:Protein-biolink:subclass_of-biolink:Pr...</td>\n      <td>1335</td>\n      <td>1335.0</td>\n      <td>NaN</td>\n      <td>NaN</td>\n      <td>NaN</td>\n      <td>NaN</td>\n      <td>NaN</td>\n      <td>NaN</td>\n      <td>NaN</td>\n      <td>NaN</td>\n    </tr>\n    <tr>\n      <th>395</th>\n      <td>biolink:SequenceFeature-biolink:subclass_of-bi...</td>\n      <td>86</td>\n      <td>NaN</td>\n      <td>86.0</td>\n      <td>NaN</td>\n      <td>NaN</td>\n      <td>NaN</td>\n      <td>NaN</td>\n      <td>NaN</td>\n      <td>NaN</td>\n      <td>NaN</td>\n    </tr>\n  </tbody>\n</table>\n<p>396 rows × 11 columns</p>\n</div>"
     },
     "metadata": {},
     "output_type": "display_data"
    }
   ],
   "source": [
    "with open(\"../../data/processed/merged_graph_stats.yaml\") as f:\n",
    "    stats = yaml.full_load(f)\n",
    "\n",
    "\n",
    "totaledges = stats[\"edge_stats\"][\"total_edges\"]\n",
    "\n",
    "knowledge_source = pd.DataFrame(stats[\"edge_stats\"][\"knowledge_source\"], columns=[\"knowledge_source\"])\n",
    "\n",
    "predicates = stats[\"edge_stats\"][\"count_by_predicates\"]\n",
    "predicatestats = []\n",
    "\n",
    "for i in predicates:\n",
    "    if i != 'unknown':\n",
    "        predicateinfo = {}\n",
    "        predicateinfo[\"predicate\"] = i\n",
    "        predicateinfo[\"total\"] = predicates[i][\"count\"]\n",
    "        for source in predicates[i][\"knowledge_source\"]:\n",
    "            predicateinfo[source] = predicates[i][\"knowledge_source\"][source][\"count\"]  #\n",
    "        predicatestats.append(predicateinfo)\n",
    "\n",
    "predicatestats = pd.DataFrame(predicatestats)\n",
    "\n",
    "spo = stats[\"edge_stats\"][\"count_by_spo\"]\n",
    "spostats = []\n",
    "\n",
    "for i in spo:\n",
    "    if i != 'unknown':\n",
    "        spoinfo = {}\n",
    "        spoinfo[\"spo\"] = i\n",
    "        spoinfo[\"total\"] = spo[i][\"count\"]\n",
    "        for source in spo[i][\"knowledge_source\"]:\n",
    "            spoinfo[source] = spo[i][\"knowledge_source\"][source][\"count\"]  #\n",
    "        spostats.append(spoinfo)\n",
    "\n",
    "spostats = pd.DataFrame(spostats)\n",
    "\n",
    "print(\"Total number of edges: \", totaledges)\n",
    "display(knowledge_source, predicatestats, spostats)"
   ],
   "metadata": {
    "collapsed": false
   }
  },
  {
   "cell_type": "markdown",
   "source": [
    "Node stats from merge_graph_stats.yaml"
   ],
   "metadata": {
    "collapsed": false
   }
  },
  {
   "cell_type": "code",
   "execution_count": 3,
   "outputs": [
    {
     "name": "stdout",
     "output_type": "stream",
     "text": [
      "Total number of nodes:  347886\n"
     ]
    },
    {
     "data": {
      "text/plain": "None"
     },
     "metadata": {},
     "output_type": "display_data"
    },
    {
     "data": {
      "text/plain": "                       prefix   UBERON       GO      CL   CHEBI    MONDO  \\\n0    biolink:AnatomicalEntity  15534.0      NaN     NaN     NaN      NaN   \n1   biolink:BiologicalProcess      NaN  30487.0     NaN     NaN      NaN   \n2                biolink:Cell      NaN      NaN  2750.0     NaN      NaN   \n3   biolink:CellularComponent      NaN   4466.0     NaN     NaN      NaN   \n4   biolink:ChemicalSubstance      NaN      NaN     NaN  1270.0      NaN   \n5             biolink:Disease      NaN      NaN     NaN     NaN  25612.0   \n6                biolink:Gene      NaN      NaN     NaN     NaN      NaN   \n7   biolink:MolecularActivity      NaN  12403.0     NaN     NaN      NaN   \n8          biolink:NamedThing      NaN      NaN     NaN     NaN      NaN   \n9       biolink:OntologyClass      NaN   7462.0     NaN     NaN      NaN   \n10   biolink:OrganismalEntity      NaN      NaN     NaN     NaN      NaN   \n11  biolink:PhenotypicFeature      NaN      NaN     NaN     NaN      NaN   \n12            biolink:Protein      NaN      NaN     NaN     NaN      NaN   \n13                biolink:RNA      NaN      NaN     NaN     NaN      NaN   \n14    biolink:SequenceFeature      NaN      NaN     NaN     NaN      NaN   \n\n    ENSEMBL     RO   BFO  DDANAT  ...  PCO  UPHENO   dc  dcterms  foaf  rdfs  \\\n0       NaN    NaN   NaN     NaN  ...  NaN     NaN  NaN      NaN   NaN   NaN   \n1       NaN    NaN   NaN     NaN  ...  NaN     NaN  NaN      NaN   NaN   NaN   \n2       NaN    NaN   NaN     NaN  ...  NaN     NaN  NaN      NaN   NaN   NaN   \n3       NaN    NaN   NaN     NaN  ...  NaN     NaN  NaN      NaN   NaN   NaN   \n4       NaN    NaN   NaN     NaN  ...  NaN     NaN  NaN      NaN   NaN   NaN   \n5       NaN    NaN   NaN     NaN  ...  NaN     NaN  NaN      NaN   NaN   NaN   \n6   45681.0    NaN   NaN     NaN  ...  NaN     NaN  NaN      NaN   NaN   NaN   \n7       NaN    1.0   NaN     NaN  ...  NaN     NaN  NaN      NaN   NaN   NaN   \n8       NaN    NaN   1.0     3.0  ...  NaN     NaN  NaN      NaN   NaN   NaN   \n9       NaN  311.0  34.0     NaN  ...  6.0     1.0  5.0      4.0   3.0   1.0   \n10      NaN    NaN   NaN     NaN  ...  NaN     NaN  NaN      NaN   NaN   NaN   \n11      NaN    NaN   NaN     NaN  ...  NaN     NaN  NaN      NaN   NaN   NaN   \n12      NaN    NaN   NaN     NaN  ...  NaN     NaN  NaN      NaN   NaN   NaN   \n13      NaN    NaN   NaN     NaN  ...  NaN     NaN  NaN      NaN   NaN   NaN   \n14      NaN    NaN   NaN     NaN  ...  NaN     NaN  NaN      NaN   NaN   NaN   \n\n         HP     PR  UNIPROTKB  RNACENTRAL  \n0       NaN    NaN        NaN         NaN  \n1       NaN    NaN        NaN         NaN  \n2       NaN    NaN        NaN         NaN  \n3       NaN    NaN        NaN         NaN  \n4       NaN    NaN        NaN         NaN  \n5       NaN    NaN        NaN         NaN  \n6       NaN    NaN        NaN         NaN  \n7       NaN    NaN        NaN         NaN  \n8       NaN    NaN        NaN         NaN  \n9       NaN    NaN        NaN         NaN  \n10      NaN    NaN        NaN         NaN  \n11  17060.0    NaN        NaN         NaN  \n12      NaN  864.0    96465.0         NaN  \n13      NaN    NaN        NaN     57490.0  \n14      NaN    NaN        NaN         NaN  \n\n[15 rows x 42 columns]",
      "text/html": "<div>\n<style scoped>\n    .dataframe tbody tr th:only-of-type {\n        vertical-align: middle;\n    }\n\n    .dataframe tbody tr th {\n        vertical-align: top;\n    }\n\n    .dataframe thead th {\n        text-align: right;\n    }\n</style>\n<table border=\"1\" class=\"dataframe\">\n  <thead>\n    <tr style=\"text-align: right;\">\n      <th></th>\n      <th>prefix</th>\n      <th>UBERON</th>\n      <th>GO</th>\n      <th>CL</th>\n      <th>CHEBI</th>\n      <th>MONDO</th>\n      <th>ENSEMBL</th>\n      <th>RO</th>\n      <th>BFO</th>\n      <th>DDANAT</th>\n      <th>...</th>\n      <th>PCO</th>\n      <th>UPHENO</th>\n      <th>dc</th>\n      <th>dcterms</th>\n      <th>foaf</th>\n      <th>rdfs</th>\n      <th>HP</th>\n      <th>PR</th>\n      <th>UNIPROTKB</th>\n      <th>RNACENTRAL</th>\n    </tr>\n  </thead>\n  <tbody>\n    <tr>\n      <th>0</th>\n      <td>biolink:AnatomicalEntity</td>\n      <td>15534.0</td>\n      <td>NaN</td>\n      <td>NaN</td>\n      <td>NaN</td>\n      <td>NaN</td>\n      <td>NaN</td>\n      <td>NaN</td>\n      <td>NaN</td>\n      <td>NaN</td>\n      <td>...</td>\n      <td>NaN</td>\n      <td>NaN</td>\n      <td>NaN</td>\n      <td>NaN</td>\n      <td>NaN</td>\n      <td>NaN</td>\n      <td>NaN</td>\n      <td>NaN</td>\n      <td>NaN</td>\n      <td>NaN</td>\n    </tr>\n    <tr>\n      <th>1</th>\n      <td>biolink:BiologicalProcess</td>\n      <td>NaN</td>\n      <td>30487.0</td>\n      <td>NaN</td>\n      <td>NaN</td>\n      <td>NaN</td>\n      <td>NaN</td>\n      <td>NaN</td>\n      <td>NaN</td>\n      <td>NaN</td>\n      <td>...</td>\n      <td>NaN</td>\n      <td>NaN</td>\n      <td>NaN</td>\n      <td>NaN</td>\n      <td>NaN</td>\n      <td>NaN</td>\n      <td>NaN</td>\n      <td>NaN</td>\n      <td>NaN</td>\n      <td>NaN</td>\n    </tr>\n    <tr>\n      <th>2</th>\n      <td>biolink:Cell</td>\n      <td>NaN</td>\n      <td>NaN</td>\n      <td>2750.0</td>\n      <td>NaN</td>\n      <td>NaN</td>\n      <td>NaN</td>\n      <td>NaN</td>\n      <td>NaN</td>\n      <td>NaN</td>\n      <td>...</td>\n      <td>NaN</td>\n      <td>NaN</td>\n      <td>NaN</td>\n      <td>NaN</td>\n      <td>NaN</td>\n      <td>NaN</td>\n      <td>NaN</td>\n      <td>NaN</td>\n      <td>NaN</td>\n      <td>NaN</td>\n    </tr>\n    <tr>\n      <th>3</th>\n      <td>biolink:CellularComponent</td>\n      <td>NaN</td>\n      <td>4466.0</td>\n      <td>NaN</td>\n      <td>NaN</td>\n      <td>NaN</td>\n      <td>NaN</td>\n      <td>NaN</td>\n      <td>NaN</td>\n      <td>NaN</td>\n      <td>...</td>\n      <td>NaN</td>\n      <td>NaN</td>\n      <td>NaN</td>\n      <td>NaN</td>\n      <td>NaN</td>\n      <td>NaN</td>\n      <td>NaN</td>\n      <td>NaN</td>\n      <td>NaN</td>\n      <td>NaN</td>\n    </tr>\n    <tr>\n      <th>4</th>\n      <td>biolink:ChemicalSubstance</td>\n      <td>NaN</td>\n      <td>NaN</td>\n      <td>NaN</td>\n      <td>1270.0</td>\n      <td>NaN</td>\n      <td>NaN</td>\n      <td>NaN</td>\n      <td>NaN</td>\n      <td>NaN</td>\n      <td>...</td>\n      <td>NaN</td>\n      <td>NaN</td>\n      <td>NaN</td>\n      <td>NaN</td>\n      <td>NaN</td>\n      <td>NaN</td>\n      <td>NaN</td>\n      <td>NaN</td>\n      <td>NaN</td>\n      <td>NaN</td>\n    </tr>\n    <tr>\n      <th>5</th>\n      <td>biolink:Disease</td>\n      <td>NaN</td>\n      <td>NaN</td>\n      <td>NaN</td>\n      <td>NaN</td>\n      <td>25612.0</td>\n      <td>NaN</td>\n      <td>NaN</td>\n      <td>NaN</td>\n      <td>NaN</td>\n      <td>...</td>\n      <td>NaN</td>\n      <td>NaN</td>\n      <td>NaN</td>\n      <td>NaN</td>\n      <td>NaN</td>\n      <td>NaN</td>\n      <td>NaN</td>\n      <td>NaN</td>\n      <td>NaN</td>\n      <td>NaN</td>\n    </tr>\n    <tr>\n      <th>6</th>\n      <td>biolink:Gene</td>\n      <td>NaN</td>\n      <td>NaN</td>\n      <td>NaN</td>\n      <td>NaN</td>\n      <td>NaN</td>\n      <td>45681.0</td>\n      <td>NaN</td>\n      <td>NaN</td>\n      <td>NaN</td>\n      <td>...</td>\n      <td>NaN</td>\n      <td>NaN</td>\n      <td>NaN</td>\n      <td>NaN</td>\n      <td>NaN</td>\n      <td>NaN</td>\n      <td>NaN</td>\n      <td>NaN</td>\n      <td>NaN</td>\n      <td>NaN</td>\n    </tr>\n    <tr>\n      <th>7</th>\n      <td>biolink:MolecularActivity</td>\n      <td>NaN</td>\n      <td>12403.0</td>\n      <td>NaN</td>\n      <td>NaN</td>\n      <td>NaN</td>\n      <td>NaN</td>\n      <td>1.0</td>\n      <td>NaN</td>\n      <td>NaN</td>\n      <td>...</td>\n      <td>NaN</td>\n      <td>NaN</td>\n      <td>NaN</td>\n      <td>NaN</td>\n      <td>NaN</td>\n      <td>NaN</td>\n      <td>NaN</td>\n      <td>NaN</td>\n      <td>NaN</td>\n      <td>NaN</td>\n    </tr>\n    <tr>\n      <th>8</th>\n      <td>biolink:NamedThing</td>\n      <td>NaN</td>\n      <td>NaN</td>\n      <td>NaN</td>\n      <td>NaN</td>\n      <td>NaN</td>\n      <td>NaN</td>\n      <td>NaN</td>\n      <td>1.0</td>\n      <td>3.0</td>\n      <td>...</td>\n      <td>NaN</td>\n      <td>NaN</td>\n      <td>NaN</td>\n      <td>NaN</td>\n      <td>NaN</td>\n      <td>NaN</td>\n      <td>NaN</td>\n      <td>NaN</td>\n      <td>NaN</td>\n      <td>NaN</td>\n    </tr>\n    <tr>\n      <th>9</th>\n      <td>biolink:OntologyClass</td>\n      <td>NaN</td>\n      <td>7462.0</td>\n      <td>NaN</td>\n      <td>NaN</td>\n      <td>NaN</td>\n      <td>NaN</td>\n      <td>311.0</td>\n      <td>34.0</td>\n      <td>NaN</td>\n      <td>...</td>\n      <td>6.0</td>\n      <td>1.0</td>\n      <td>5.0</td>\n      <td>4.0</td>\n      <td>3.0</td>\n      <td>1.0</td>\n      <td>NaN</td>\n      <td>NaN</td>\n      <td>NaN</td>\n      <td>NaN</td>\n    </tr>\n    <tr>\n      <th>10</th>\n      <td>biolink:OrganismalEntity</td>\n      <td>NaN</td>\n      <td>NaN</td>\n      <td>NaN</td>\n      <td>NaN</td>\n      <td>NaN</td>\n      <td>NaN</td>\n      <td>NaN</td>\n      <td>NaN</td>\n      <td>NaN</td>\n      <td>...</td>\n      <td>NaN</td>\n      <td>NaN</td>\n      <td>NaN</td>\n      <td>NaN</td>\n      <td>NaN</td>\n      <td>NaN</td>\n      <td>NaN</td>\n      <td>NaN</td>\n      <td>NaN</td>\n      <td>NaN</td>\n    </tr>\n    <tr>\n      <th>11</th>\n      <td>biolink:PhenotypicFeature</td>\n      <td>NaN</td>\n      <td>NaN</td>\n      <td>NaN</td>\n      <td>NaN</td>\n      <td>NaN</td>\n      <td>NaN</td>\n      <td>NaN</td>\n      <td>NaN</td>\n      <td>NaN</td>\n      <td>...</td>\n      <td>NaN</td>\n      <td>NaN</td>\n      <td>NaN</td>\n      <td>NaN</td>\n      <td>NaN</td>\n      <td>NaN</td>\n      <td>17060.0</td>\n      <td>NaN</td>\n      <td>NaN</td>\n      <td>NaN</td>\n    </tr>\n    <tr>\n      <th>12</th>\n      <td>biolink:Protein</td>\n      <td>NaN</td>\n      <td>NaN</td>\n      <td>NaN</td>\n      <td>NaN</td>\n      <td>NaN</td>\n      <td>NaN</td>\n      <td>NaN</td>\n      <td>NaN</td>\n      <td>NaN</td>\n      <td>...</td>\n      <td>NaN</td>\n      <td>NaN</td>\n      <td>NaN</td>\n      <td>NaN</td>\n      <td>NaN</td>\n      <td>NaN</td>\n      <td>NaN</td>\n      <td>864.0</td>\n      <td>96465.0</td>\n      <td>NaN</td>\n    </tr>\n    <tr>\n      <th>13</th>\n      <td>biolink:RNA</td>\n      <td>NaN</td>\n      <td>NaN</td>\n      <td>NaN</td>\n      <td>NaN</td>\n      <td>NaN</td>\n      <td>NaN</td>\n      <td>NaN</td>\n      <td>NaN</td>\n      <td>NaN</td>\n      <td>...</td>\n      <td>NaN</td>\n      <td>NaN</td>\n      <td>NaN</td>\n      <td>NaN</td>\n      <td>NaN</td>\n      <td>NaN</td>\n      <td>NaN</td>\n      <td>NaN</td>\n      <td>NaN</td>\n      <td>57490.0</td>\n    </tr>\n    <tr>\n      <th>14</th>\n      <td>biolink:SequenceFeature</td>\n      <td>NaN</td>\n      <td>NaN</td>\n      <td>NaN</td>\n      <td>NaN</td>\n      <td>NaN</td>\n      <td>NaN</td>\n      <td>NaN</td>\n      <td>NaN</td>\n      <td>NaN</td>\n      <td>...</td>\n      <td>NaN</td>\n      <td>NaN</td>\n      <td>NaN</td>\n      <td>NaN</td>\n      <td>NaN</td>\n      <td>NaN</td>\n      <td>NaN</td>\n      <td>NaN</td>\n      <td>NaN</td>\n      <td>NaN</td>\n    </tr>\n  </tbody>\n</table>\n<p>15 rows × 42 columns</p>\n</div>"
     },
     "metadata": {},
     "output_type": "display_data"
    }
   ],
   "source": [
    "with open(\"../../data/processed/merged_graph_stats.yaml\") as f:\n",
    "    stats = yaml.full_load(f)\n",
    "\n",
    "totalnodes = stats[\"node_stats\"][\"total_nodes\"]\n",
    "categories = stats[\"node_stats\"][\"count_by_category\"]\n",
    "\n",
    "catstats = []\n",
    "\n",
    "for i in categories:\n",
    "    if i != 'unknown':\n",
    "        catinfo = {}\n",
    "        catinfo[\"prefix\"] = i\n",
    "        catinfo[\"total\"] = categories[i][\"count\"]\n",
    "        for source in categories[i][\"provided_by\"]:\n",
    "            catinfo[source] = categories[i][\"provided_by\"][source][\"count\"]  #\n",
    "        catstats.append(catinfo)\n",
    "\n",
    "catstats = pd.DataFrame(catstats)\n",
    "\n",
    "prefixes = stats[\"node_stats\"][\"count_by_id_prefixes_by_category\"]\n",
    "\n",
    "prefixesstats = []\n",
    "\n",
    "for i in prefixes:\n",
    "    if i != 'unknown':\n",
    "        prefixesinfo = {}\n",
    "        prefixesinfo[\"prefix\"] = i\n",
    "        for prefixe in prefixes[i]:\n",
    "            prefixesinfo[prefixe] = prefixes[i][prefixe]\n",
    "        prefixesstats.append(prefixesinfo)\n",
    "\n",
    "prefixesstats = pd.DataFrame(prefixesstats)\n",
    "\n",
    "print(\"Total number of nodes: \", totalnodes)\n",
    "display(catstats, prefixesstats)"
   ],
   "metadata": {
    "collapsed": false
   }
  },
  {
   "cell_type": "code",
   "execution_count": null,
   "outputs": [],
   "source": [],
   "metadata": {
    "collapsed": false
   }
  }
 ],
 "metadata": {
  "kernelspec": {
   "display_name": "Python 3 (ipykernel)",
   "language": "python",
   "name": "python3"
  },
  "language_info": {
   "codemirror_mode": {
    "name": "ipython",
    "version": 3
   },
   "file_extension": ".py",
   "mimetype": "text/x-python",
   "name": "python",
   "nbconvert_exporter": "python",
   "pygments_lexer": "ipython3",
   "version": "3.9.12"
  }
 },
 "nbformat": 4,
 "nbformat_minor": 1
}

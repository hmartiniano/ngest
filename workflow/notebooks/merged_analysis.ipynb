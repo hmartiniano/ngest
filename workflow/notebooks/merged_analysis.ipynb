{
 "cells": [
  {
   "cell_type": "markdown",
   "metadata": {},
   "source": [
    "Process merge_graph_stats analysis"
   ]
  },
  {
   "cell_type": "code",
   "execution_count": 1,
   "metadata": {},
   "outputs": [],
   "source": [
    "import pandas as pd\n",
    "import yaml"
   ]
  },
  {
   "cell_type": "markdown",
   "metadata": {},
   "source": [
    "Edges stats from merge_graph_stats.yaml"
   ]
  },
  {
   "cell_type": "code",
   "execution_count": null,
   "metadata": {
    "pycharm": {
     "is_executing": true
    }
   },
   "outputs": [],
   "source": [
    "with open(\"../../data/processed/finals/merged_graph_stats.yaml\") as f:\n",
    "    stats = yaml.full_load(f)\n",
    "\n",
    "\n",
    "totaledges = stats[\"edge_stats\"][\"total_edges\"]\n",
    "\n",
    "knowledge_source = pd.DataFrame(stats[\"edge_stats\"][\"knowledge_source\"], columns=[\"knowledge_source\"])\n",
    "\n",
    "predicates = stats[\"edge_stats\"][\"count_by_predicates\"]\n",
    "predicatestats = []\n",
    "\n",
    "for i in predicates:\n",
    "    if i != 'unknown':\n",
    "        predicateinfo = {}\n",
    "        predicateinfo[\"predicate\"] = i\n",
    "        predicateinfo[\"total\"] = predicates[i][\"count\"]\n",
    "        for source in predicates[i][\"knowledge_source\"]:\n",
    "            predicateinfo[source] = predicates[i][\"knowledge_source\"][source][\"count\"]  #\n",
    "        predicatestats.append(predicateinfo)\n",
    "\n",
    "predicatestats = pd.DataFrame(predicatestats)\n",
    "\n",
    "spo = stats[\"edge_stats\"][\"count_by_spo\"]\n",
    "spostats = []\n",
    "\n",
    "for i in spo:\n",
    "    if i != 'unknown':\n",
    "        spoinfo = {}\n",
    "        spoinfo[\"spo\"] = i\n",
    "        spoinfo[\"total\"] = spo[i][\"count\"]\n",
    "        for source in spo[i][\"knowledge_source\"]:\n",
    "            spoinfo[source] = spo[i][\"knowledge_source\"][source][\"count\"]  #\n",
    "        spostats.append(spoinfo)\n",
    "\n",
    "spostats = pd.DataFrame(spostats)\n",
    "\n",
    "print(\"Total number of edges: \", totaledges)\n",
    "display(knowledge_source, predicatestats, spostats)"
   ]
  },
  {
   "cell_type": "markdown",
   "metadata": {},
   "source": [
    "Node stats from merge_graph_stats.yaml"
   ]
  },
  {
   "cell_type": "code",
   "execution_count": 3,
   "metadata": {},
   "outputs": [
    {
     "name": "stdout",
     "output_type": "stream",
     "text": [
      "Total number of nodes:  377703\n"
     ]
    },
    {
     "data": {
      "text/plain": "                                prefix   total     BGEE  cl.json  mondo.json  \\\n0             biolink:AnatomicalEntity   15534    313.0   4589.0      4879.0   \n1            biolink:BiologicalProcess   30498      NaN   7061.0         NaN   \n2                         biolink:Cell    2757     16.0   2757.0      1056.0   \n3            biolink:CellularComponent    4465      NaN    293.0         NaN   \n4                      biolink:Disease   25683      NaN      NaN     25683.0   \n5                         biolink:Gene   64465  59509.0      NaN         NaN   \n6   biolink:MacromolecularComplexMixin     506      NaN      NaN         NaN   \n7            biolink:MolecularActivity   12434      NaN    374.0         NaN   \n8            biolink:PhenotypicFeature   17060      NaN      NaN      1205.0   \n9                      biolink:Protein   99467      NaN    698.0         NaN   \n10                         biolink:RNA  104834      NaN      NaN         NaN   \n\n    uberon.json  go.json    HPOA  Disgenet  ENSEMBL  Mirtarbase  NPInter  \\\n0       15524.0      NaN     NaN       NaN      NaN         NaN      NaN   \n1           NaN  30498.0     NaN       NaN      NaN         NaN      NaN   \n2         226.0      NaN     NaN       NaN      NaN         NaN      NaN   \n3           NaN   4465.0     NaN       NaN      NaN         NaN      NaN   \n4           NaN      NaN  8137.0       NaN      NaN         NaN      NaN   \n5           NaN      NaN     NaN   18309.0  23096.0     14999.0   2207.0   \n6           NaN      NaN     NaN       NaN      NaN         NaN      NaN   \n7           NaN  12434.0     NaN       NaN      NaN         NaN      NaN   \n8           NaN      NaN     NaN       NaN      NaN         NaN      NaN   \n9           NaN      NaN     NaN       NaN  96465.0         NaN    856.0   \n10          NaN      NaN     NaN       NaN      NaN      1065.0  37890.0   \n\n    RNACENTRAL      GOA  hpo.json   STRING  \n0          NaN      NaN       NaN      NaN  \n1          NaN      NaN       NaN      NaN  \n2          NaN      NaN       NaN      NaN  \n3          NaN      NaN       NaN      NaN  \n4          NaN      NaN       NaN      NaN  \n5      22585.0      NaN       NaN      NaN  \n6          NaN    506.0       NaN      NaN  \n7          NaN      NaN       NaN      NaN  \n8          NaN      NaN   17060.0      NaN  \n9          NaN  58889.0       NaN  18885.0  \n10     57490.0  23564.0       NaN      NaN  ",
      "text/html": "<div>\n<style scoped>\n    .dataframe tbody tr th:only-of-type {\n        vertical-align: middle;\n    }\n\n    .dataframe tbody tr th {\n        vertical-align: top;\n    }\n\n    .dataframe thead th {\n        text-align: right;\n    }\n</style>\n<table border=\"1\" class=\"dataframe\">\n  <thead>\n    <tr style=\"text-align: right;\">\n      <th></th>\n      <th>prefix</th>\n      <th>total</th>\n      <th>BGEE</th>\n      <th>cl.json</th>\n      <th>mondo.json</th>\n      <th>uberon.json</th>\n      <th>go.json</th>\n      <th>HPOA</th>\n      <th>Disgenet</th>\n      <th>ENSEMBL</th>\n      <th>Mirtarbase</th>\n      <th>NPInter</th>\n      <th>RNACENTRAL</th>\n      <th>GOA</th>\n      <th>hpo.json</th>\n      <th>STRING</th>\n    </tr>\n  </thead>\n  <tbody>\n    <tr>\n      <th>0</th>\n      <td>biolink:AnatomicalEntity</td>\n      <td>15534</td>\n      <td>313.0</td>\n      <td>4589.0</td>\n      <td>4879.0</td>\n      <td>15524.0</td>\n      <td>NaN</td>\n      <td>NaN</td>\n      <td>NaN</td>\n      <td>NaN</td>\n      <td>NaN</td>\n      <td>NaN</td>\n      <td>NaN</td>\n      <td>NaN</td>\n      <td>NaN</td>\n      <td>NaN</td>\n    </tr>\n    <tr>\n      <th>1</th>\n      <td>biolink:BiologicalProcess</td>\n      <td>30498</td>\n      <td>NaN</td>\n      <td>7061.0</td>\n      <td>NaN</td>\n      <td>NaN</td>\n      <td>30498.0</td>\n      <td>NaN</td>\n      <td>NaN</td>\n      <td>NaN</td>\n      <td>NaN</td>\n      <td>NaN</td>\n      <td>NaN</td>\n      <td>NaN</td>\n      <td>NaN</td>\n      <td>NaN</td>\n    </tr>\n    <tr>\n      <th>2</th>\n      <td>biolink:Cell</td>\n      <td>2757</td>\n      <td>16.0</td>\n      <td>2757.0</td>\n      <td>1056.0</td>\n      <td>226.0</td>\n      <td>NaN</td>\n      <td>NaN</td>\n      <td>NaN</td>\n      <td>NaN</td>\n      <td>NaN</td>\n      <td>NaN</td>\n      <td>NaN</td>\n      <td>NaN</td>\n      <td>NaN</td>\n      <td>NaN</td>\n    </tr>\n    <tr>\n      <th>3</th>\n      <td>biolink:CellularComponent</td>\n      <td>4465</td>\n      <td>NaN</td>\n      <td>293.0</td>\n      <td>NaN</td>\n      <td>NaN</td>\n      <td>4465.0</td>\n      <td>NaN</td>\n      <td>NaN</td>\n      <td>NaN</td>\n      <td>NaN</td>\n      <td>NaN</td>\n      <td>NaN</td>\n      <td>NaN</td>\n      <td>NaN</td>\n      <td>NaN</td>\n    </tr>\n    <tr>\n      <th>4</th>\n      <td>biolink:Disease</td>\n      <td>25683</td>\n      <td>NaN</td>\n      <td>NaN</td>\n      <td>25683.0</td>\n      <td>NaN</td>\n      <td>NaN</td>\n      <td>8137.0</td>\n      <td>NaN</td>\n      <td>NaN</td>\n      <td>NaN</td>\n      <td>NaN</td>\n      <td>NaN</td>\n      <td>NaN</td>\n      <td>NaN</td>\n      <td>NaN</td>\n    </tr>\n    <tr>\n      <th>5</th>\n      <td>biolink:Gene</td>\n      <td>64465</td>\n      <td>59509.0</td>\n      <td>NaN</td>\n      <td>NaN</td>\n      <td>NaN</td>\n      <td>NaN</td>\n      <td>NaN</td>\n      <td>18309.0</td>\n      <td>23096.0</td>\n      <td>14999.0</td>\n      <td>2207.0</td>\n      <td>22585.0</td>\n      <td>NaN</td>\n      <td>NaN</td>\n      <td>NaN</td>\n    </tr>\n    <tr>\n      <th>6</th>\n      <td>biolink:MacromolecularComplexMixin</td>\n      <td>506</td>\n      <td>NaN</td>\n      <td>NaN</td>\n      <td>NaN</td>\n      <td>NaN</td>\n      <td>NaN</td>\n      <td>NaN</td>\n      <td>NaN</td>\n      <td>NaN</td>\n      <td>NaN</td>\n      <td>NaN</td>\n      <td>NaN</td>\n      <td>506.0</td>\n      <td>NaN</td>\n      <td>NaN</td>\n    </tr>\n    <tr>\n      <th>7</th>\n      <td>biolink:MolecularActivity</td>\n      <td>12434</td>\n      <td>NaN</td>\n      <td>374.0</td>\n      <td>NaN</td>\n      <td>NaN</td>\n      <td>12434.0</td>\n      <td>NaN</td>\n      <td>NaN</td>\n      <td>NaN</td>\n      <td>NaN</td>\n      <td>NaN</td>\n      <td>NaN</td>\n      <td>NaN</td>\n      <td>NaN</td>\n      <td>NaN</td>\n    </tr>\n    <tr>\n      <th>8</th>\n      <td>biolink:PhenotypicFeature</td>\n      <td>17060</td>\n      <td>NaN</td>\n      <td>NaN</td>\n      <td>1205.0</td>\n      <td>NaN</td>\n      <td>NaN</td>\n      <td>NaN</td>\n      <td>NaN</td>\n      <td>NaN</td>\n      <td>NaN</td>\n      <td>NaN</td>\n      <td>NaN</td>\n      <td>NaN</td>\n      <td>17060.0</td>\n      <td>NaN</td>\n    </tr>\n    <tr>\n      <th>9</th>\n      <td>biolink:Protein</td>\n      <td>99467</td>\n      <td>NaN</td>\n      <td>698.0</td>\n      <td>NaN</td>\n      <td>NaN</td>\n      <td>NaN</td>\n      <td>NaN</td>\n      <td>NaN</td>\n      <td>96465.0</td>\n      <td>NaN</td>\n      <td>856.0</td>\n      <td>NaN</td>\n      <td>58889.0</td>\n      <td>NaN</td>\n      <td>18885.0</td>\n    </tr>\n    <tr>\n      <th>10</th>\n      <td>biolink:RNA</td>\n      <td>104834</td>\n      <td>NaN</td>\n      <td>NaN</td>\n      <td>NaN</td>\n      <td>NaN</td>\n      <td>NaN</td>\n      <td>NaN</td>\n      <td>NaN</td>\n      <td>NaN</td>\n      <td>1065.0</td>\n      <td>37890.0</td>\n      <td>57490.0</td>\n      <td>23564.0</td>\n      <td>NaN</td>\n      <td>NaN</td>\n    </tr>\n  </tbody>\n</table>\n</div>"
     },
     "metadata": {},
     "output_type": "display_data"
    },
    {
     "data": {
      "text/plain": "                                prefix   UBERON       GO      CL    MONDO  \\\n0             biolink:AnatomicalEntity  15534.0      NaN     NaN      NaN   \n1            biolink:BiologicalProcess      NaN  30498.0     NaN      NaN   \n2                         biolink:Cell      NaN      NaN  2757.0      NaN   \n3            biolink:CellularComponent      NaN   4465.0     NaN      NaN   \n4                      biolink:Disease      NaN      NaN     NaN  25683.0   \n5                         biolink:Gene      NaN      NaN     NaN      NaN   \n6   biolink:MacromolecularComplexMixin      NaN      NaN     NaN      NaN   \n7            biolink:MolecularActivity      NaN  12434.0     NaN      NaN   \n8            biolink:PhenotypicFeature      NaN      NaN     NaN      NaN   \n9                      biolink:Protein      NaN      NaN     NaN      NaN   \n10                         biolink:RNA      NaN      NaN     NaN      NaN   \n\n    ENSEMBL  COMPLEXPORTAL       HP     PR  UNIPROTKB  RNACENTRAL  \n0       NaN            NaN      NaN    NaN        NaN         NaN  \n1       NaN            NaN      NaN    NaN        NaN         NaN  \n2       NaN            NaN      NaN    NaN        NaN         NaN  \n3       NaN            NaN      NaN    NaN        NaN         NaN  \n4       NaN            NaN      NaN    NaN        NaN         NaN  \n5   64465.0            NaN      NaN    NaN        NaN         NaN  \n6       NaN          506.0      NaN    NaN        NaN         NaN  \n7       NaN            NaN      NaN    NaN        NaN         NaN  \n8       NaN            NaN  17060.0    NaN        NaN         NaN  \n9       NaN            NaN      NaN  188.0    99211.0         NaN  \n10      NaN            NaN      NaN    NaN        NaN    104834.0  ",
      "text/html": "<div>\n<style scoped>\n    .dataframe tbody tr th:only-of-type {\n        vertical-align: middle;\n    }\n\n    .dataframe tbody tr th {\n        vertical-align: top;\n    }\n\n    .dataframe thead th {\n        text-align: right;\n    }\n</style>\n<table border=\"1\" class=\"dataframe\">\n  <thead>\n    <tr style=\"text-align: right;\">\n      <th></th>\n      <th>prefix</th>\n      <th>UBERON</th>\n      <th>GO</th>\n      <th>CL</th>\n      <th>MONDO</th>\n      <th>ENSEMBL</th>\n      <th>COMPLEXPORTAL</th>\n      <th>HP</th>\n      <th>PR</th>\n      <th>UNIPROTKB</th>\n      <th>RNACENTRAL</th>\n    </tr>\n  </thead>\n  <tbody>\n    <tr>\n      <th>0</th>\n      <td>biolink:AnatomicalEntity</td>\n      <td>15534.0</td>\n      <td>NaN</td>\n      <td>NaN</td>\n      <td>NaN</td>\n      <td>NaN</td>\n      <td>NaN</td>\n      <td>NaN</td>\n      <td>NaN</td>\n      <td>NaN</td>\n      <td>NaN</td>\n    </tr>\n    <tr>\n      <th>1</th>\n      <td>biolink:BiologicalProcess</td>\n      <td>NaN</td>\n      <td>30498.0</td>\n      <td>NaN</td>\n      <td>NaN</td>\n      <td>NaN</td>\n      <td>NaN</td>\n      <td>NaN</td>\n      <td>NaN</td>\n      <td>NaN</td>\n      <td>NaN</td>\n    </tr>\n    <tr>\n      <th>2</th>\n      <td>biolink:Cell</td>\n      <td>NaN</td>\n      <td>NaN</td>\n      <td>2757.0</td>\n      <td>NaN</td>\n      <td>NaN</td>\n      <td>NaN</td>\n      <td>NaN</td>\n      <td>NaN</td>\n      <td>NaN</td>\n      <td>NaN</td>\n    </tr>\n    <tr>\n      <th>3</th>\n      <td>biolink:CellularComponent</td>\n      <td>NaN</td>\n      <td>4465.0</td>\n      <td>NaN</td>\n      <td>NaN</td>\n      <td>NaN</td>\n      <td>NaN</td>\n      <td>NaN</td>\n      <td>NaN</td>\n      <td>NaN</td>\n      <td>NaN</td>\n    </tr>\n    <tr>\n      <th>4</th>\n      <td>biolink:Disease</td>\n      <td>NaN</td>\n      <td>NaN</td>\n      <td>NaN</td>\n      <td>25683.0</td>\n      <td>NaN</td>\n      <td>NaN</td>\n      <td>NaN</td>\n      <td>NaN</td>\n      <td>NaN</td>\n      <td>NaN</td>\n    </tr>\n    <tr>\n      <th>5</th>\n      <td>biolink:Gene</td>\n      <td>NaN</td>\n      <td>NaN</td>\n      <td>NaN</td>\n      <td>NaN</td>\n      <td>64465.0</td>\n      <td>NaN</td>\n      <td>NaN</td>\n      <td>NaN</td>\n      <td>NaN</td>\n      <td>NaN</td>\n    </tr>\n    <tr>\n      <th>6</th>\n      <td>biolink:MacromolecularComplexMixin</td>\n      <td>NaN</td>\n      <td>NaN</td>\n      <td>NaN</td>\n      <td>NaN</td>\n      <td>NaN</td>\n      <td>506.0</td>\n      <td>NaN</td>\n      <td>NaN</td>\n      <td>NaN</td>\n      <td>NaN</td>\n    </tr>\n    <tr>\n      <th>7</th>\n      <td>biolink:MolecularActivity</td>\n      <td>NaN</td>\n      <td>12434.0</td>\n      <td>NaN</td>\n      <td>NaN</td>\n      <td>NaN</td>\n      <td>NaN</td>\n      <td>NaN</td>\n      <td>NaN</td>\n      <td>NaN</td>\n      <td>NaN</td>\n    </tr>\n    <tr>\n      <th>8</th>\n      <td>biolink:PhenotypicFeature</td>\n      <td>NaN</td>\n      <td>NaN</td>\n      <td>NaN</td>\n      <td>NaN</td>\n      <td>NaN</td>\n      <td>NaN</td>\n      <td>17060.0</td>\n      <td>NaN</td>\n      <td>NaN</td>\n      <td>NaN</td>\n    </tr>\n    <tr>\n      <th>9</th>\n      <td>biolink:Protein</td>\n      <td>NaN</td>\n      <td>NaN</td>\n      <td>NaN</td>\n      <td>NaN</td>\n      <td>NaN</td>\n      <td>NaN</td>\n      <td>NaN</td>\n      <td>188.0</td>\n      <td>99211.0</td>\n      <td>NaN</td>\n    </tr>\n    <tr>\n      <th>10</th>\n      <td>biolink:RNA</td>\n      <td>NaN</td>\n      <td>NaN</td>\n      <td>NaN</td>\n      <td>NaN</td>\n      <td>NaN</td>\n      <td>NaN</td>\n      <td>NaN</td>\n      <td>NaN</td>\n      <td>NaN</td>\n      <td>104834.0</td>\n    </tr>\n  </tbody>\n</table>\n</div>"
     },
     "metadata": {},
     "output_type": "display_data"
    }
   ],
   "source": [
    "with open(\"../../data/processed/finals/merged_graph_stats.yaml\") as f:\n",
    "    stats = yaml.full_load(f)\n",
    "\n",
    "totalnodes = stats[\"node_stats\"][\"total_nodes\"]\n",
    "categories = stats[\"node_stats\"][\"count_by_category\"]\n",
    "\n",
    "catstats = []\n",
    "\n",
    "for i in categories:\n",
    "    if i != 'unknown':\n",
    "        catinfo = {}\n",
    "        catinfo[\"prefix\"] = i\n",
    "        catinfo[\"total\"] = categories[i][\"count\"]\n",
    "        for source in categories[i][\"provided_by\"]:\n",
    "            catinfo[source] = categories[i][\"provided_by\"][source][\"count\"]  #\n",
    "        catstats.append(catinfo)\n",
    "\n",
    "catstats = pd.DataFrame(catstats)\n",
    "\n",
    "prefixes = stats[\"node_stats\"][\"count_by_id_prefixes_by_category\"]\n",
    "\n",
    "prefixesstats = []\n",
    "\n",
    "for i in prefixes:\n",
    "    if i != 'unknown':\n",
    "        prefixesinfo = {}\n",
    "        prefixesinfo[\"prefix\"] = i\n",
    "        for prefixe in prefixes[i]:\n",
    "            prefixesinfo[prefixe] = prefixes[i][prefixe]\n",
    "        prefixesstats.append(prefixesinfo)\n",
    "\n",
    "prefixesstats = pd.DataFrame(prefixesstats)\n",
    "\n",
    "print(\"Total number of nodes: \", totalnodes)\n",
    "display(catstats, prefixesstats)"
   ]
  }
 ],
 "metadata": {
  "kernelspec": {
   "display_name": "Python 3 (ipykernel)",
   "language": "python",
   "name": "python3"
  },
  "language_info": {
   "codemirror_mode": {
    "name": "ipython",
    "version": 3
   },
   "file_extension": ".py",
   "mimetype": "text/x-python",
   "name": "python",
   "nbconvert_exporter": "python",
   "pygments_lexer": "ipython3",
   "version": "3.9.13"
  }
 },
 "nbformat": 4,
 "nbformat_minor": 1
}

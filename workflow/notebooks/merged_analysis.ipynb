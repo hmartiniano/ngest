{
 "cells": [
  {
   "cell_type": "markdown",
   "metadata": {},
   "source": [
    "Process merge_graph_stats analysis"
   ]
  },
  {
   "cell_type": "code",
   "execution_count": null,
   "metadata": {
    "pycharm": {
     "is_executing": true
    }
   },
   "outputs": [],
   "source": [
    "import pandas as pd\n",
    "import yaml"
   ]
  },
  {
   "cell_type": "markdown",
   "metadata": {},
   "source": [
    "Edges stats from merge_graph_stats.yaml"
   ]
  },
  {
   "cell_type": "code",
   "execution_count": null,
   "metadata": {
    "pycharm": {
     "is_executing": true
    }
   },
   "outputs": [],
   "source": [
    "with open(\"../../data/processed/finals/merged_graph_stats.yaml\") as f:\n",
    "    stats = yaml.full_load(f)\n",
    "\n",
    "\n",
    "totaledges = stats[\"edge_stats\"][\"total_edges\"]\n",
    "\n",
    "knowledge_source = pd.DataFrame(stats[\"edge_stats\"][\"knowledge_source\"], columns=[\"knowledge_source\"])\n",
    "\n",
    "predicates = stats[\"edge_stats\"][\"count_by_predicates\"]\n",
    "predicatestats = []\n",
    "\n",
    "for i in predicates:\n",
    "    if i != 'unknown':\n",
    "        predicateinfo = {}\n",
    "        predicateinfo[\"predicate\"] = i\n",
    "        predicateinfo[\"total\"] = predicates[i][\"count\"]\n",
    "        for source in predicates[i][\"knowledge_source\"]:\n",
    "            predicateinfo[source] = predicates[i][\"knowledge_source\"][source][\"count\"]  #\n",
    "        predicatestats.append(predicateinfo)\n",
    "\n",
    "predicatestats = pd.DataFrame(predicatestats)\n",
    "\n",
    "spo = stats[\"edge_stats\"][\"count_by_spo\"]\n",
    "spostats = []\n",
    "\n",
    "for i in spo:\n",
    "    if i != 'unknown':\n",
    "        spoinfo = {}\n",
    "        spoinfo[\"spo\"] = i\n",
    "        spoinfo[\"total\"] = spo[i][\"count\"]\n",
    "        for source in spo[i][\"knowledge_source\"]:\n",
    "            spoinfo[source] = spo[i][\"knowledge_source\"][source][\"count\"]  #\n",
    "        spostats.append(spoinfo)\n",
    "\n",
    "spostats = pd.DataFrame(spostats)\n",
    "\n",
    "print(\"Total number of edges: \", totaledges)\n",
    "display(knowledge_source, predicatestats, spostats)"
   ]
  },
  {
   "cell_type": "markdown",
   "metadata": {},
   "source": [
    "Node stats from merge_graph_stats.yaml"
   ]
  },
  {
   "cell_type": "code",
   "execution_count": null,
   "metadata": {
    "pycharm": {
     "is_executing": true
    }
   },
   "outputs": [],
   "source": [
    "with open(\"../../data/processed/finals/merged_graph_stats.yaml\") as f:\n",
    "    stats = yaml.full_load(f)\n",
    "\n",
    "totalnodes = stats[\"node_stats\"][\"total_nodes\"]\n",
    "categories = stats[\"node_stats\"][\"count_by_category\"]\n",
    "\n",
    "catstats = []\n",
    "\n",
    "for i in categories:\n",
    "    if i != 'unknown':\n",
    "        catinfo = {}\n",
    "        catinfo[\"prefix\"] = i\n",
    "        catinfo[\"total\"] = categories[i][\"count\"]\n",
    "        for source in categories[i][\"provided_by\"]:\n",
    "            catinfo[source] = categories[i][\"provided_by\"][source][\"count\"]  #\n",
    "        catstats.append(catinfo)\n",
    "\n",
    "catstats = pd.DataFrame(catstats)\n",
    "\n",
    "prefixes = stats[\"node_stats\"][\"count_by_id_prefixes_by_category\"]\n",
    "\n",
    "prefixesstats = []\n",
    "\n",
    "for i in prefixes:\n",
    "    if i != 'unknown':\n",
    "        prefixesinfo = {}\n",
    "        prefixesinfo[\"prefix\"] = i\n",
    "        for prefixe in prefixes[i]:\n",
    "            prefixesinfo[prefixe] = prefixes[i][prefixe]\n",
    "        prefixesstats.append(prefixesinfo)\n",
    "\n",
    "prefixesstats = pd.DataFrame(prefixesstats)\n",
    "\n",
    "print(\"Total number of nodes: \", totalnodes)\n",
    "display(catstats, prefixesstats)"
   ]
  }
 ],
 "metadata": {
  "kernelspec": {
   "display_name": "Python 3 (ipykernel)",
   "language": "python",
   "name": "python3"
  },
  "language_info": {
   "codemirror_mode": {
    "name": "ipython",
    "version": 3
   },
   "file_extension": ".py",
   "mimetype": "text/x-python",
   "name": "python",
   "nbconvert_exporter": "python",
   "pygments_lexer": "ipython3",
   "version": "3.9.13"
  }
 },
 "nbformat": 4,
 "nbformat_minor": 1
}

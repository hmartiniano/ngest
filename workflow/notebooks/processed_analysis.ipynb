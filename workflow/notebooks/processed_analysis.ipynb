{
 "cells": [
  {
   "cell_type": "markdown",
   "source": [
    "Analyse process files nodes and edges"
   ],
   "metadata": {
    "collapsed": false
   }
  },
  {
   "cell_type": "code",
   "execution_count": 1,
   "outputs": [],
   "source": [
    "import pandas as pd\n",
    "import os"
   ],
   "metadata": {
    "collapsed": false
   }
  },
  {
   "cell_type": "markdown",
   "source": [
    "Analyse nodes categories"
   ],
   "metadata": {
    "collapsed": false
   }
  },
  {
   "cell_type": "code",
   "execution_count": null,
   "outputs": [],
   "source": [
    "datapath = \"../../data/processed/finals/\"\n",
    "\n",
    "df = pd.DataFrame()\n",
    "df[\"File Name\"] = os.listdir(datapath)\n",
    "\n",
    "nodes = pd.DataFrame()\n",
    "nodes[\"File Name\"] = df[df[\"File Name\"].str.contains(\"nodes\")][\"File Name\"]\n",
    "nodes = nodes.reset_index()\n",
    "\n",
    "category = {}\n",
    "prefixes = {}\n",
    "nodesids = pd.DataFrame(columns=[\"DB\", \"ID\", \"Category\"])\n",
    "\n",
    "for i in range(len(nodes)):\n",
    "    path = os.path.join(datapath, nodes[\"File Name\"][i])\n",
    "    filef = pd.read_csv(path, sep=\"\\t\", low_memory=False)\n",
    "    category[nodes[\"File Name\"][i]] = pd.value_counts(filef[\"category\"]).to_dict()\n",
    "    prefixes[nodes[\"File Name\"][i]] = pd.value_counts(filef[\"id\"].str.split(\":\").str[0]).to_dict()\n",
    "\n",
    "    nodesinfo = pd.DataFrame()\n",
    "    nodesinfo[\"DB\"] = filef[\"provided_by\"]\n",
    "    nodesinfo[\"ID\"] = filef[\"id\"]\n",
    "    nodesinfo[\"Category\"] = filef[\"category\"]\n",
    "\n",
    "    nodesids = pd.concat([nodesids, nodesinfo])\n",
    "\n",
    "uniqueids = nodesids[~nodesids.duplicated('ID')]\n",
    "\n",
    "uniqueidscount = uniqueids.groupby(['DB', 'Category']).agg({'ID': 'count'})\n",
    "\n",
    "print (\"Nodes by Category\\n\")\n",
    "display (pd.DataFrame.from_dict(category))\n",
    "print (\"\\nNodes by Prefix\\n\")\n",
    "display(pd.DataFrame.from_dict(prefixes))\n",
    "print (\"\\nUnique nodes\\n\")\n",
    "display(uniqueidscount)"
   ],
   "metadata": {
    "collapsed": false,
    "pycharm": {
     "is_executing": true
    }
   }
  },
  {
   "cell_type": "markdown",
   "source": [
    "Analyse edges predicates"
   ],
   "metadata": {
    "collapsed": false
   }
  },
  {
   "cell_type": "code",
   "execution_count": null,
   "outputs": [],
   "source": [
    "datapath = \"../../data/processed/finals/\"\n",
    "\n",
    "df = pd.DataFrame()\n",
    "df[\"File Name\"] = os.listdir(datapath)\n",
    "\n",
    "edges = pd.DataFrame()\n",
    "edges[\"File Name\"] = df[df[\"File Name\"].str.contains(\"edges\")][\"File Name\"]\n",
    "edges = edges.reset_index()\n",
    "\n",
    "predicate = {}\n",
    "\n",
    "for i in range(len(edges)):\n",
    "    path = os.path.join(datapath, edges[\"File Name\"][i])\n",
    "    filef = pd.read_csv(path, sep=\"\\t\", low_memory=False)\n",
    "    predicate[edges[\"File Name\"][i]] = pd.value_counts(filef[\"predicate\"]).to_dict()\n",
    "\n",
    "print(\"Edges by predicate\\n\")\n",
    "display (pd.DataFrame.from_dict(predicate))"
   ],
   "metadata": {
    "collapsed": false,
    "pycharm": {
     "is_executing": true
    }
   }
  }
 ],
 "metadata": {
  "kernelspec": {
   "display_name": "Python 3",
   "language": "python",
   "name": "python3"
  },
  "language_info": {
   "codemirror_mode": {
    "name": "ipython",
    "version": 2
   },
   "file_extension": ".py",
   "mimetype": "text/x-python",
   "name": "python",
   "nbconvert_exporter": "python",
   "pygments_lexer": "ipython2",
   "version": "2.7.6"
  }
 },
 "nbformat": 4,
 "nbformat_minor": 0
}
